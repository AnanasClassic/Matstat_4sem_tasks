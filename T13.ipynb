{
 "cells": [
  {
   "cell_type": "markdown",
   "id": "06af42ab-b98b-4578-be40-4dc6b176a8af",
   "metadata": {},
   "source": [
    "![alt text](statements/T13.png \"T11\")"
   ]
  },
  {
   "cell_type": "code",
   "execution_count": 18,
   "id": "716bc6f0-5fe5-484c-9888-715822dd34cf",
   "metadata": {},
   "outputs": [],
   "source": [
    "import numpy as np\n",
    "from scipy import stats\n",
    "import matplotlib.pyplot as plt"
   ]
  },
  {
   "cell_type": "code",
   "execution_count": 19,
   "id": "b8431080-963b-4029-9273-b4e84547f157",
   "metadata": {},
   "outputs": [],
   "source": [
    "n = 1000"
   ]
  },
  {
   "cell_type": "code",
   "execution_count": 27,
   "id": "33006a47-acc7-4117-9673-43b80a4121f5",
   "metadata": {},
   "outputs": [
    {
     "name": "stdout",
     "output_type": "stream",
     "text": [
      "1000 69.89371056455916 9.924167209009012\n"
     ]
    }
   ],
   "source": [
    "X = np.random.normal(70, 10, n)\n",
    "print(len(X), np.mean(X), np.std(X))"
   ]
  },
  {
   "cell_type": "code",
   "execution_count": 28,
   "id": "bc0623aa-b493-486d-9087-c6d612222052",
   "metadata": {},
   "outputs": [
    {
     "data": {
      "text/plain": [
       "86.44853626951472"
      ]
     },
     "execution_count": 28,
     "metadata": {},
     "output_type": "execute_result"
    }
   ],
   "source": [
    "exact_T = stats.norm.ppf(0.95, loc=70, scale=10)\n",
    "exact_T"
   ]
  },
  {
   "cell_type": "code",
   "execution_count": 32,
   "id": "954247bd-1f33-4bff-ac02-6c2c8bc784df",
   "metadata": {},
   "outputs": [
    {
     "name": "stdout",
     "output_type": "stream",
     "text": [
      "85.8427737412108\n"
     ]
    }
   ],
   "source": [
    "T_sample = np.quantile(X, 0.95)\n",
    "print(T_sample)"
   ]
  },
  {
   "cell_type": "code",
   "execution_count": 38,
   "id": "ec1748c3-c389-4707-a252-7b859a2ac78b",
   "metadata": {},
   "outputs": [
    {
     "name": "stdout",
     "output_type": "stream",
     "text": [
      "0.7330585244773637 85.85976677726681\n"
     ]
    }
   ],
   "source": [
    "bootstrapped_Ts = [np.quantile(np.random.choice(X, size=len(X), replace=True), 0.95) for _ in range(1000)]\n",
    "\n",
    "bootstrap_std = np.std(bootstrapped_Ts)\n",
    "print(np.std(bootstrapped_Ts), np.mean(bootstrapped_Ts))"
   ]
  },
  {
   "cell_type": "code",
   "execution_count": 44,
   "id": "5205b508-1468-4677-b1a4-742b98a386e2",
   "metadata": {},
   "outputs": [
    {
     "name": "stdout",
     "output_type": "stream",
     "text": [
      "0.9 : 82.815515655446\n",
      "T_sample: 82.08886283208919\n",
      "std: 0.4601357735467167\n",
      "\n",
      "0.8 : 78.41621233572914\n",
      "T_sample: 78.27846972304938\n",
      "std: 0.48695318161663786\n",
      "\n"
     ]
    }
   ],
   "source": [
    "for quantile in [0.9, 0.8]:\n",
    "    exact_T = stats.norm.ppf(quantile, loc=70, scale=10)\n",
    "    T_sample = np.quantile(X, quantile)\n",
    "    bootstrapped_Ts = [np.quantile(np.random.choice(X, size=len(X), replace=True), quantile) for _ in range(1000)]\n",
    "    bootstrap_std = np.std(bootstrapped_Ts)\n",
    "    print(quantile, ':', exact_T)\n",
    "    print('T_sample:', T_sample)\n",
    "    print('std:', bootstrap_std)\n",
    "    print()"
   ]
  },
  {
   "cell_type": "code",
   "execution_count": null,
   "id": "2eccf022-ace8-4143-b71a-750dd5ed6aa2",
   "metadata": {},
   "outputs": [],
   "source": []
  }
 ],
 "metadata": {
  "kernelspec": {
   "display_name": "Python 3 (ipykernel)",
   "language": "python",
   "name": "python3"
  },
  "language_info": {
   "codemirror_mode": {
    "name": "ipython",
    "version": 3
   },
   "file_extension": ".py",
   "mimetype": "text/x-python",
   "name": "python",
   "nbconvert_exporter": "python",
   "pygments_lexer": "ipython3",
   "version": "3.9.19"
  }
 },
 "nbformat": 4,
 "nbformat_minor": 5
}
